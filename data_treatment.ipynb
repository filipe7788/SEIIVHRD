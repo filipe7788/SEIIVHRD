{
 "cells": [
  {
   "cell_type": "code",
   "execution_count": 259,
   "metadata": {},
   "outputs": [],
   "source": [
    "import numpy as np\n",
    "import pandas as pd\n",
    "import datetime\n",
    "from collections import defaultdict"
   ]
  },
  {
   "cell_type": "code",
   "execution_count": 260,
   "metadata": {},
   "outputs": [],
   "source": [
    "# On this cell I import all data used on the analysis\n",
    "\n",
    "data_from_2020 = pd.read_csv ('./data/estado.csv')\n",
    "dates =  pd.read_excel ('./data/mydata_obito.xlsx',sheet_name='Obitos',usecols=[1]).fillna(0).values\n",
    "dates = [item for sublist in dates for item in sublist]\n",
    "cumulative_deaths =  pd.read_excel ('./data/mydata_obito.xlsx',sheet_name='Obitos',usecols=[1,3]).fillna(0).values\n",
    "cumulative_infected = pd.read_excel('./data/mydata.xlsx',sheet_name='Infectados', usecols=[1,3]).fillna(0).values\n",
    "cumulative_infected_vaccinated = pd.read_excel('./data/mydata.xlsx',sheet_name='Infectados apos vacina',usecols=[1,3] ).fillna(0).values\n",
    "cumulative_vaccinated = pd.read_excel('./data/mydata.xlsx', sheet_name='Número de Vacinados', usecols=[0,  2]).fillna(0).values\n",
    "\n",
    "hospitalized_data = pd.read_excel('./data/hospita.xlsx', sheet_name=\"Hospitalizados\", usecols=[1,3]).fillna(0).values\n",
    "vaccinated_hospitalized_data = pd.read_excel('./data/hospita.xlsx', sheet_name=\"Hospitalizados apos vacina\", usecols=[1,3]).fillna(0).values\n",
    "\n",
    "psi = pd.read_csv('./data/psi.csv').values\n",
    "newPsi = []\n",
    "for i, item in enumerate(psi):\n",
    "    if i <= 180:\n",
    "        newPsi.append(item[0])\n",
    "    else:\n",
    "        newPsi.append(0.5)"
   ]
  },
  {
   "cell_type": "code",
   "execution_count": 261,
   "metadata": {},
   "outputs": [],
   "source": [
    "\n",
    "# Função para criar DataFrame com datas e valores zero em seis colunas\n",
    "def criar_dataframe_com_zeros(dates):\n",
    "    return pd.DataFrame({\n",
    "                         'Date': dates,\n",
    "                         'mortes': [0] * len(dates),\n",
    "                         'casos': [0] * len(dates),\n",
    "                         'hospitalizados': [0] * len(dates),\n",
    "                         'infectados_vacinados': [0] * len(dates),\n",
    "                         'vacinados': [0] * len(dates),\n",
    "                         'hospitalizados_vacinados': [0] * len(dates), \n",
    "                         'PSI': newPsi[:len(dates)]                      \n",
    "                         })\n"
   ]
  },
  {
   "cell_type": "code",
   "execution_count": 262,
   "metadata": {},
   "outputs": [],
   "source": [
    "def atualizar_dataframe(df, data, coluna):\n",
    "\n",
    "    for date, value in data:\n",
    "        idx = df.index[df['Date'] == date].tolist()\n",
    "        if idx:\n",
    "            df.at[idx[0], coluna] = value\n",
    "\n"
   ]
  },
  {
   "cell_type": "code",
   "execution_count": 263,
   "metadata": {},
   "outputs": [],
   "source": [
    "# Criar DataFrame com datas e valores zero em seis colunas\n",
    "df = criar_dataframe_com_zeros(dates)\n",
    "\n",
    "# Atualizar os valores nas colunas correspondentes com os dados dos conjuntos\n",
    "atualizar_dataframe(df, cumulative_deaths, 'mortes')\n",
    "atualizar_dataframe(df, cumulative_infected, 'casos')\n",
    "atualizar_dataframe(df, hospitalized_data, 'hospitalizados')\n",
    "atualizar_dataframe(df, cumulative_infected_vaccinated, 'infectados_vacinados')\n",
    "atualizar_dataframe(df, cumulative_vaccinated, 'vacinados')\n",
    "atualizar_dataframe(df, vaccinated_hospitalized_data, 'hospitalizados_vacinados')\n",
    "\n",
    "df = df[3:-70]\n",
    "\n",
    "# # Salvar o DataFrame como um arquivo CSV\n",
    "df.to_csv('./generated_data/cleanned_data.csv', index=False)"
   ]
  },
  {
   "cell_type": "markdown",
   "metadata": {},
   "source": []
  }
 ],
 "metadata": {
  "kernelspec": {
   "display_name": "Python 3",
   "language": "python",
   "name": "python3"
  },
  "language_info": {
   "codemirror_mode": {
    "name": "ipython",
    "version": 3
   },
   "file_extension": ".py",
   "mimetype": "text/x-python",
   "name": "python",
   "nbconvert_exporter": "python",
   "pygments_lexer": "ipython3",
   "version": "3.11.7"
  }
 },
 "nbformat": 4,
 "nbformat_minor": 2
}
